{
 "cells": [
  {
   "cell_type": "markdown",
   "id": "500ad935",
   "metadata": {},
   "source": [
    "# **Finding the right place for Food Cart Locations**\n",
    "\n",
    "## **Objective**\n",
    "Use **Classic Metaheuristics** to **optimize the placement of food carts in a city**, \n",
    "minimizing the **total weighted walking distance** from customer hotspots.\n",
    "\n",
    "\n",
    "## **Problem Statement**\n",
    "A city wants to **optimize food cart placements** to **minimize the total walking distance** \n",
    "for customers from key locations (e.g., office buildings, parks, public squares). \n",
    "The food carts should be placed within a **bounded city area**, \n",
    "and their positions should be adjusted iteratively using different optimization strategies.\n",
    "\n",
    "## **Problem Details**\n",
    "1. **City Layout**\n",
    "   - The city is modeled as a **1 km × 1 km** grid.\n",
    "   - There are **M customer hotspots** representing high-demand areas.\n",
    "   - There are **N food carts** to be placed optimally.\n",
    "\n",
    "2. **Objective Function**\n",
    "   - Minimize the **total weighted distance** from customers to their nearest food cart:\n",
    "\n",
    "     $ f(\\mathbf{X}) = \\sum_{i=1}^{M} p_i \\cdot \\min_{j \\in N} d(\\mathbf{x}_i, \\mathbf{c}_j) $\n",
    "\n",
    "     where:\n",
    "     - $ p_i $ = population demand at customer hotspot **i**.\n",
    "     - $ d(\\mathbf{x}_i, \\mathbf{c}_j) $ = **Euclidean distance** between customer location $ \\mathbf{x}_i $\n",
    "       and the nearest food cart $ \\mathbf{c}_j $.\n",
    "\n",
    "## **Optimization Approaches**\n",
    "Students must implement **three optimization strategies** and compare their performance:\n",
    "\n",
    "1. **Random Search**  \n",
    "\n",
    "2. **Hill Climber**  \n",
    "\n",
    "3. **Simulated Annealing**  \n",
    "\n",
    "## **Tasks**\n",
    "1. **Define the problem setup** (city grid, customer hotspots, and food carts).\n",
    "2. **Implement the objective function** to measure walking distances.\n",
    "3. **Implement three optimization algorithms**:\n",
    "   - **Random Search**\n",
    "   - **Hill Climber**\n",
    "   - **Simulated Annealing**\n",
    "4. **Visualize the initial and optimized food cart locations** on a 2D map.\n",
    "5. **Compare the results** across the three approaches:\n",
    "   - Measure the final **total weighted walking distance** for each approach.\n",
    "   - Compare the efficiency and effectiveness of each method.\n",
    "\n",
    "## **Deliverables**\n",
    "1. **Python implementation** of the three optimization algorithms.\n",
    "2. **Before and after visualizations** of food cart placement.\n",
    "3. **Comparison table** showing performance across the three methods.\n",
    "4. **Analysis**:\n",
    "   - How much did the **total weighted walking distance** decrease?\n",
    "   - Which algorithm performed the best?\n",
    "   - How does changing the **cooling rate** affect Simulated Annealing?\n"
   ]
  },
  {
   "cell_type": "code",
   "execution_count": 3,
   "id": "96c7747b",
   "metadata": {},
   "outputs": [],
   "source": [
    "\n",
    "import numpy as np\n",
    "import random\n",
    "import math\n",
    "import matplotlib.pyplot as plt\n"
   ]
  },
  {
   "cell_type": "markdown",
   "id": "b4b9c8bd",
   "metadata": {},
   "source": [
    "## **1. Define City Model**"
   ]
  },
  {
   "cell_type": "code",
   "id": "e6bfd658",
   "metadata": {
    "jupyter": {
     "is_executing": true
    }
   },
   "source": [
    "\n",
    "np.random.seed(2025) # to ensure reproducibility\n",
    "random.seed(2025) # to ensure reproducibility\n",
    "\n",
    "# City dimensions (1 km x 1 km)\n",
    "CITY_WIDTH, CITY_HEIGHT = 1000, 1000  # in meters\n",
    "\n",
    "# Number of food carts\n",
    "N = 10  \n",
    "\n",
    "# Number of customer hotspots\n",
    "M = 15  \n",
    "\n",
    "# Generate random customer hotspots with demand values\n",
    "customer_hotspots = np.random.rand(M, 2) * [CITY_WIDTH, CITY_HEIGHT]\n",
    "customer_demand = np.random.randint(50, 300, size=M)  # Each hotspot has a demand\n",
    "\n",
    "# Generate random initial positions for food carts\n",
    "food_carts = np.random.rand(N, 2) * [CITY_WIDTH, CITY_HEIGHT]\n"
   ],
   "outputs": [],
   "execution_count": null
  },
  {
   "cell_type": "markdown",
   "id": "2e54c169",
   "metadata": {},
   "source": [
    "## **2. Define Objective Function**"
   ]
  },
  {
   "cell_type": "code",
   "execution_count": 3,
   "id": "1e635b5a",
   "metadata": {},
   "outputs": [],
   "source": [
    "\n",
    "# Function to compute Euclidean distance\n",
    "def euclidean_distance(point1, point2):\n",
    "    return np.linalg.norm(point1 - point2)\n",
    "\n",
    "# Compute total weighted distance from hotspots to nearest food cart\n",
    "def total_customer_distance(food_carts, customer_hotspots, customer_demand):\n",
    "    total_distance = 0\n",
    "    for i in range(M):\n",
    "        # Find the nearest food cart to the customer hotspot\n",
    "        min_distance = min(euclidean_distance(customer_hotspots[i], food_carts[j]) for j in range(N))\n",
    "        total_distance += customer_demand[i] * min_distance  # Weighted by demand\n",
    "    return total_distance\n"
   ]
  },
  {
   "cell_type": "markdown",
   "id": "2a6c3230",
   "metadata": {},
   "source": [
    "## **3. Implement Simulated Annealing**"
   ]
  },
  {
   "cell_type": "code",
   "execution_count": 4,
   "id": "aff3b63e",
   "metadata": {},
   "outputs": [],
   "source": [
    "\n",
    "# Simulated Annealing implementation\n",
    "def simulated_annealing(food_carts, customer_hotspots, customer_demand, T0, alpha, iterations=2000):\n",
    "    T = T0\n",
    "    current_solution = np.copy(food_carts)\n",
    "    best_solution = np.copy(food_carts)\n",
    "    best_cost = total_customer_distance(current_solution, customer_hotspots, customer_demand)\n",
    "    \n",
    "    # TODO: YOUR CODE HERE\n",
    "    \n",
    "    return best_solution, best_cost\n"
   ]
  },
  {
   "cell_type": "markdown",
   "id": "3a11abc2",
   "metadata": {},
   "source": [
    "## **4. Run SA and Visualize Results**"
   ]
  },
  {
   "cell_type": "code",
   "execution_count": 5,
   "id": "fd72c408",
   "metadata": {},
   "outputs": [],
   "source": [
    "\n",
    "# Function to plot city layout\n",
    "def plot_city(food_carts, customer_hotspots, title):\n",
    "    plt.figure(figsize=(8, 8))\n",
    "    plt.scatter(food_carts[:, 0], food_carts[:, 1], c='blue', marker='o', label='Food Carts', s=100)\n",
    "    plt.scatter(customer_hotspots[:, 0], customer_hotspots[:, 1], c='red', marker='x', label='Customer Hotspots', s=80)\n",
    "    \n",
    "    # Draw lines from hotspots to the nearest food cart\n",
    "    for i in range(M):\n",
    "        nearest_cart = min(food_carts, key=lambda c: euclidean_distance(customer_hotspots[i], c))\n",
    "        plt.plot([customer_hotspots[i][0], nearest_cart[0]], \n",
    "                 [customer_hotspots[i][1], nearest_cart[1]], 'gray', linestyle='dotted')\n",
    "\n",
    "    plt.xlim(0, CITY_WIDTH)\n",
    "    plt.ylim(0, CITY_HEIGHT)\n",
    "    plt.xlabel(\"City Width (m)\")\n",
    "    plt.ylabel(\"City Height (m)\")\n",
    "    plt.title(title)\n",
    "    plt.legend()\n",
    "    plt.grid(True)\n",
    "    plt.show()\n"
   ]
  },
  {
   "cell_type": "code",
   "execution_count": null,
   "id": "f4b2544a",
   "metadata": {},
   "outputs": [],
   "source": [
    "\n",
    "# Plot initial city layout\n",
    "plot_city(food_carts, customer_hotspots, \"Initial Food Cart Locations\")\n",
    "\n",
    "# Run SA optimization\n",
    "optimized_food_carts, optimized_distance = simulated_annealing(food_carts, customer_hotspots, customer_demand)\n",
    "\n",
    "# Plot optimized city layout\n",
    "plot_city(optimized_food_carts, customer_hotspots, \"Optimized Food Cart Locations (SA)\")\n",
    "\n",
    "# Return final optimized total distance\n",
    "optimized_distance\n"
   ]
  },
  {
   "cell_type": "markdown",
   "id": "e97f664c",
   "metadata": {},
   "source": [
    "## **5. Implement Random Search**"
   ]
  },
  {
   "cell_type": "code",
   "execution_count": 7,
   "id": "9bbfcec8",
   "metadata": {},
   "outputs": [],
   "source": [
    "\n",
    "def random_search(customer_hotspots, customer_demand, num_iterations=5000):\n",
    "    best_solution = np.random.rand(N, 2) * [CITY_WIDTH, CITY_HEIGHT]\n",
    "    best_cost = total_customer_distance(best_solution, customer_hotspots, customer_demand)\n",
    "\n",
    "    # TODO: YOUR CODE HERE\n",
    "    \n",
    "    return best_solution, best_cost\n"
   ]
  },
  {
   "cell_type": "markdown",
   "id": "c6bda5b8",
   "metadata": {},
   "source": [
    "## **6. Implement Hill Climber**"
   ]
  },
  {
   "cell_type": "code",
   "execution_count": 8,
   "id": "bfe62904",
   "metadata": {},
   "outputs": [],
   "source": [
    "\n",
    "def hill_climber(food_carts, customer_hotspots, customer_demand, iterations=1000):\n",
    "    current_solution = np.copy(food_carts)\n",
    "    best_solution = np.copy(food_carts)\n",
    "    best_cost = total_customer_distance(current_solution, customer_hotspots, customer_demand)\n",
    "\n",
    "    # TODO: YOUR CODE HERE\n",
    "\n",
    "    return best_solution, best_cost\n"
   ]
  },
  {
   "cell_type": "markdown",
   "id": "29f59084",
   "metadata": {},
   "source": [
    "## **7. Run All Approaches and Compare Results**"
   ]
  },
  {
   "cell_type": "code",
   "execution_count": null,
   "id": "b47f01a4",
   "metadata": {},
   "outputs": [],
   "source": [
    "# Function to plot all approaches in a single figure\n",
    "def plot_all_methods(random_solution, hill_solution, sim_annealing_solution, customer_hotspots):\n",
    "    plt.figure(figsize=(8, 8))\n",
    "    \n",
    "    # Plot customer hotspots\n",
    "    plt.scatter(customer_hotspots[:, 0], customer_hotspots[:, 1], c='red', marker='x', label='Customer Hotspots', s=80)\n",
    "\n",
    "    # Plot Random Search locations\n",
    "    plt.scatter(random_solution[:, 0], random_solution[:, 1], c='blue', marker='o', label='Random Search', s=100)\n",
    "\n",
    "    # Plot Hill Climber locations\n",
    "    plt.scatter(hill_solution[:, 0], hill_solution[:, 1], c='green', marker='s', label='Hill Climber', s=100)\n",
    "\n",
    "    # Plot Simulated Annealing locations\n",
    "    plt.scatter(sim_annealing_solution[:, 0], sim_annealing_solution[:, 1], c='purple', marker='D', label='Simulated Annealing', s=100)\n",
    "\n",
    "    plt.xlim(0, CITY_WIDTH)\n",
    "    plt.ylim(0, CITY_HEIGHT)\n",
    "    plt.xlabel(\"City Width (m)\")\n",
    "    plt.ylabel(\"City Height (m)\")\n",
    "    plt.title(\"Comparison of Optimization Approaches\")\n",
    "    plt.legend()\n",
    "    plt.grid(True)\n",
    "    plt.show()\n",
    "\n"
   ]
  },
  {
   "cell_type": "code",
   "execution_count": null,
   "id": "13178943",
   "metadata": {},
   "outputs": [],
   "source": [
    "\n",
    "# Run Random Search\n",
    "random_solution, random_cost = random_search(customer_hotspots, customer_demand)\n",
    "\n",
    "# Run Hill Climber\n",
    "hill_solution, hill_cost = hill_climber(food_carts, customer_hotspots, customer_demand)\n",
    "\n",
    "# Run Simulated Annealing\n",
    "sim_annealing_solution, sim_annealing_cost = simulated_annealing(food_carts, customer_hotspots, customer_demand)\n",
    "\n",
    "# Print comparison results\n",
    "print(\"Comparison of Optimization Methods:\")\n",
    "print(f\"Random Search Distance: {random_cost:.2f}\")\n",
    "print(f\"Hill Climber Distance: {hill_cost:.2f}\")\n",
    "print(f\"Simulated Annealing Distance: {sim_annealing_cost:.2f}\")\n",
    "\n",
    "# Plot all methods together\n",
    "plot_all_methods(random_solution, hill_solution, sim_annealing_solution, customer_hotspots)\n",
    "\n",
    "# Plot results\n",
    "# plot_city(random_solution, customer_hotspots, \"Random Search - Optimized Food Cart Locations\")\n",
    "# plot_city(hill_solution, customer_hotspots, \"Hill Climber - Optimized Food Cart Locations\")\n",
    "# plot_city(sim_annealing_solution, customer_hotspots, \"Simulated Annealing - Optimized Food Cart Locations\")\n"
   ]
  }
 ],
 "metadata": {
  "kernelspec": {
   "display_name": "aulaec",
   "language": "python",
   "name": "python3"
  },
  "language_info": {
   "codemirror_mode": {
    "name": "ipython",
    "version": 3
   },
   "file_extension": ".py",
   "mimetype": "text/x-python",
   "name": "python",
   "nbconvert_exporter": "python",
   "pygments_lexer": "ipython3",
   "version": "3.10.16"
  }
 },
 "nbformat": 4,
 "nbformat_minor": 5
}
