{
 "cells": [
  {
   "cell_type": "markdown",
   "metadata": {},
   "source": [
    "### Assignment: Evolutionary Algorithm for Timetable Scheduling\n",
    "\n",
    "#### Objective\n",
    "Your task is to develop an **Evolutionary Algorithm (EA)** that optimizes a timetable for a set of courses based on predefined constraints. The algorithm should generate a valid schedule that meets the specified requirements while optimizing for minimal conflicts and balanced distribution of classes.\n",
    "\n",
    "#### Problem Description\n",
    "You are given a file (`classes.json`) containing a set of courses, their class types, scheduled days, and start times. Your goal is to create a feasible timetable that schedules all required classes while adhering to the given constraints.\n",
    "\n",
    "#### Constraints\n",
    "1. **Total Classes**: The timetable must contain **exactly 11 classes**.\n",
    "2. **Course Distribution**:\n",
    "   - **Tópicos de Física Moderna (TFM)**: 3 classes (**2 T1** and **1 TP**)\n",
    "   - **Princípios de Programação Procedimental (PPP)**: 2 classes (**2 TP**)\n",
    "   - **Comunicação Técnica (CT)**: 2 classes (**1 T1** and **1 PL**)\n",
    "   - **Estatística**: 2 classes (**2 TP**)\n",
    "   - **Análise Matemática II (AMII)**: 2 classes (**2 TP**)\n",
    "3. **No Overlaps**: Two classes cannot be scheduled at the same time slot.\n",
    "4. **Valid Time Slots**: Each class can only be scheduled in one of the available time slots provided in `classes.json`.\n",
    "\n",
    "#### Input Format\n",
    "The input file `classes.json` contains an array of objects, where each object has the following attributes:\n",
    "- **Course**: The name of the course.\n",
    "- **Class**: The type and section of the class (e.g., T1, TP1, PL1).\n",
    "- **Day**: The scheduled day of the week.\n",
    "- **Start Time**: The starting time of the class.\n",
    "\n",
    "Example JSON entry:\n",
    "```json\n",
    "{\n",
    "    \"Course\": \"Análise Matemática II\",\n",
    "    \"Class\": \"TP1\",\n",
    "    \"Day\": \"Tuesday\",\n",
    "    \"Start Time\": \"09:00\"\n",
    "}\n",
    "```\n",
    "\n",
    "#### Evolutionary Algorithm Requirements\n",
    "Your **Evolutionary Algorithm** should follow these key principles:\n",
    "1. **Representation**: Design an appropriate encoding for the timetable.\n",
    "2. **Fitness Function**: Evaluate solutions based on:\n",
    "   - Validity (whether all constraints are met)\n",
    "   - Minimized conflicts\n",
    "   - Balanced distribution of classes across time slots\n",
    "3. **Parent Selection**: Implement a method for selecting promising solutions. Start by implementing the tournament selection.\n",
    "4. **Crossover**: Define a mechanism to combine two parent solutions to create new timetables.\n",
    "5. **Mutation**: Implement a mutation strategy to introduce diversity.\n",
    "6. **Termination Condition**: Decide when the algorithm should stop (e.g., after a fixed number of generations or when there is no significant improvement).\n",
    "\n",
    "After programming all of this you should implement the elitism mechanism.\n",
    "\n",
    "\n",
    "Good luck, and happy coding!\n"
   ]
  },
  {
   "cell_type": "code",
   "execution_count": null,
   "metadata": {},
   "outputs": [],
   "source": [
    "# import libraries and load data from json\n",
    "import random\n",
    "import json\n",
    "from datetime import datetime\n",
    "import copy\n",
    "\n",
    "NUMBER_OF_CLASSES_PER_WEEK = 11\n",
    "\n",
    "# Load class data from JSON file\n",
    "with open('classes.json', 'r', encoding='utf-8') as f:\n",
    "    class_data = json.load(f)\n",
    "\n",
    "days = [\"Monday\", \"Tuesday\", \"Wednesday\", \"Thursday\", \"Friday\"]\n",
    "times = [\"09:00\", \"11:00\", \"14:00\", \"16:00\", \"18:00\"]\n",
    "courses_classe = {}\n",
    "for i in class_data:\n",
    "    courses_classe.setdefault(i['Course'], set()).add(i['Class'])\n",
    "\n",
    "total_courses = len(courses_classe)\n",
    "max_classes = max(len(classes) for classes in courses_classe.values())\n",
    "total_days = len(days)\n",
    "total_time_slots = len(times)"
   ]
  },
  {
   "cell_type": "code",
   "execution_count": null,
   "metadata": {},
   "outputs": [],
   "source": [
    "# check the contents:\n",
    "\n",
    "## to check the given options for timetable selection\n",
    "for c in class_data:\n",
    "    print(c)\n",
    "\n",
    "print(\"....\")\n",
    "## to access courses and classes\n",
    "for cor in courses_classe:\n",
    "    print(cor, \" -> \", courses_classe[cor])\n"
   ]
  },
  {
   "cell_type": "markdown",
   "metadata": {},
   "source": [
    "# Initial Solution\n",
    "Generates a random a chromosome that will represent a timetable"
   ]
  },
  {
   "cell_type": "code",
   "execution_count": null,
   "metadata": {},
   "outputs": [],
   "source": [
    "def generate_chromosome():\n",
    "    # TODO YOUR CODE HERE\n",
    "    pass"
   ]
  },
  {
   "cell_type": "code",
   "execution_count": null,
   "metadata": {},
   "outputs": [],
   "source": [
    "def chromosome_to_timetable(): # generate the timetable object from the representation\n",
    "    ''' from the genes you should generate the a list with elements that\n",
    "    follow a structure similar to classes.json as follows:\n",
    "        {\n",
    "            \"Course\": course,\n",
    "            \"Class\": classe,\n",
    "            \"Day\": day,\n",
    "            \"Start Time\": time\n",
    "        }'''\n",
    "    # TODO\n",
    "    pass"
   ]
  },
  {
   "cell_type": "code",
   "execution_count": null,
   "metadata": {},
   "outputs": [],
   "source": [
    "# helper function to export timetables\n",
    "def save_timetable(timetable, filename='a_timetable.json',fitness_value=\"not calculated\"):\n",
    "    with open(filename, 'w', encoding='utf-8') as f:\n",
    "        json.dump(sorted(timetable, key=lambda x: x['Course']) + [{'fitness' : fitness_value}], f, indent=4, ensure_ascii=False)\n"
   ]
  },
  {
   "cell_type": "markdown",
   "metadata": {},
   "source": [
    "# Fitness function\n",
    "Evaluates the quality of the timetable encoded in each solution. Solutions that do not take into account the restrictions of the problem should be penalized. Lower values are better."
   ]
  },
  {
   "cell_type": "code",
   "execution_count": null,
   "metadata": {},
   "outputs": [],
   "source": [
    "def fitness(timetable):\n",
    "    # TODO YOUR CODE HERE\n",
    "    pass"
   ]
  },
  {
   "cell_type": "markdown",
   "metadata": {},
   "source": [
    "# Crossover\n",
    "You should program a crossover operator."
   ]
  },
  {
   "cell_type": "code",
   "execution_count": null,
   "metadata": {},
   "outputs": [],
   "source": [
    "def crossover(parent1, parent2):\n",
    "    # TODO YOUR CODE HERE\n",
    "    pass\n",
    "\n"
   ]
  },
  {
   "cell_type": "markdown",
   "metadata": {},
   "source": [
    "# Mutation operator\n",
    "You should program a crossover operator."
   ]
  },
  {
   "cell_type": "code",
   "execution_count": null,
   "metadata": {},
   "outputs": [],
   "source": [
    "def mutate(individual, mutation_rate):\n",
    "    # TODO YOUR CODE HERE\n",
    "    pass\n",
    "\n"
   ]
  },
  {
   "cell_type": "markdown",
   "metadata": {},
   "source": [
    "# Parent Selection\n",
    "You should program the tournament selection mechanism"
   ]
  },
  {
   "cell_type": "code",
   "execution_count": null,
   "metadata": {},
   "outputs": [],
   "source": [
    "def tournament_selection(population, k=5):\n",
    "    # TODO YOUR CODE HERE\n",
    "    # Note: use sorted(<...>, key=fitness) to sort by value of the fitness function call\n",
    "    pass\n",
    "\n"
   ]
  },
  {
   "cell_type": "code",
   "execution_count": null,
   "metadata": {},
   "outputs": [],
   "source": [
    "def genetic_algorithm(pop_size=100, generations=2500, mutation_rate=0.05):\n",
    "    population = [generate_chromosome() for _ in range(pop_size)]\n",
    "    for gen in range(generations):\n",
    "        population = sorted(population, key=fitness)\n",
    "        if fitness(population[0]) == 0:\n",
    "            break\n",
    "        new_population = []\n",
    "        while len(new_population) < pop_size:\n",
    "            p1, p2 = tournament_selection(population)\n",
    "            child = crossover(p1, p2)\n",
    "            child = mutate(child, mutation_rate)\n",
    "            new_population.append(child)\n",
    "        population = new_population\n",
    "        print(f\"Generation {gen + 1}, Best Fitness: {fitness(population[0])}\")\n",
    "    return population[0]\n",
    "\n",
    "best_timetable = genetic_algorithm()"
   ]
  }
 ],
 "metadata": {
  "kernelspec": {
   "display_name": "aulaec",
   "language": "python",
   "name": "python3"
  },
  "language_info": {
   "codemirror_mode": {
    "name": "ipython",
    "version": 3
   },
   "file_extension": ".py",
   "mimetype": "text/x-python",
   "name": "python",
   "nbconvert_exporter": "python",
   "pygments_lexer": "ipython3",
   "version": "3.10.16"
  }
 },
 "nbformat": 4,
 "nbformat_minor": 2
}
