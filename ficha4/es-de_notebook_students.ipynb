{
 "cells": [
  {
   "cell_type": "markdown",
   "id": "b0294c6c",
   "metadata": {},
   "source": [
    "# Evolutionary Strategies and Differential Evolution for Neural Network Optimization\n",
    "\n",
    "In this assignment, we will explore the application of **Evolutionary Strategies (ES) and Differential Evolution (DE)** to optimize the weights of a neural network for solving the **Lunar Lander problem**. The Lunar Lander environment, provided by OpenAI Gym, simulates the challenge of controlling a lunar module to land it safely on a designated landing pad. The task involves applying thrust and rotation to navigate the lander under the influence of gravity while avoiding crashes or drifting out of bounds.\n",
    "\n",
    "The goal is to train a neural network that acts as a controller for the lander. By optimizing the network weights, the controller learns how to achieve smooth and successful landings. Instead of traditional gradient-based optimization methods, we will use evolutionary algorithms, as introduced in class, to explore the weight space.\n",
    "\n",
    "In this context, evolutionary algorithms offer a robust and gradient-free optimization approach that is particularly useful for tasks with non-differentiable objectives or high-dimensional search spaces. You will program an ES/DE to optimize the network weights and compare its performance against a **Random Search** baseline, where weights are sampled randomly and evaluated.\n",
    "\n",
    "The problem at hand is to design an EA that finds a set of neural network weights maximizing the total reward in the Lunar Lander environment. Rewards are given for successful landings and penalized for crashes or inefficient maneuvers. By comparing the EA with Random Search, you will analyze the effectiveness and efficiency of evolutionary optimization methods.\n"
   ]
  },
  {
   "cell_type": "markdown",
   "id": "4b1e30b4",
   "metadata": {},
   "source": [
    "# Assignment Task\n",
    "\n",
    "In this assignment, you will use Evolutionary Strategies (ES) and Differential Evolution (DE) to optimize the weights of a neural network for the Lunar Lander environment from OpenAI Gym. You will compare the performance of your implementation with a **Random Search** baseline provided in the starter code.\n",
    "\n",
    "## 0. Setup\n",
    "Recomended version for setup: python 3.10.16 \n",
    "Some modules are required to run the code:\n",
    "```python\n",
    "python -m pip install gymnasium torch swig matplotlib\n",
    "python -m pip install \"gymnasium[box2d]\"\n",
    "```\n",
    "\n",
    "## 1. Analyze the provided implementation\n",
    "- Review the given **Random Search** code. Understand how it generates and evaluates random weight sets for the neural network. Run the code to familiarize yourself with its output and performance.\n",
    "\n",
    "## 2. Implement the following:\n",
    "- **2.1 Choose one variant of ES** covered in class, such as CMA-ES, NES.\n",
    "- **2.2 Implement the selected ES** in Python. Make sure to:\n",
    "  - Represent the weights of the neural network as the individuals in the population.\n",
    "  - Design a fitness function based on the reward obtained in the Lunar Lander environment.\n",
    "  - Include key algorithm mechanisms.\n",
    "\n",
    "## 3. Run experiments and compare:\n",
    "Conduct experiments with both the **Random Search** and your EA implementation. For each experiment, run **5 different random seeds** to account for variability. Analyze the following setup:\n",
    "- **3.1 Your ES implementation vs. Random Search.**\n",
    "\n",
    "### Metrics to compare:\n",
    "- **3.3 Best reward achieved**: Compare the highest rewards obtained by each setup.\n",
    "- **3.4 Convergence speed**: Measure the number of generations required to reach a reward threshold (e.g., a landing reward of 200 or higher).\n",
    "- **3.5 Consistency**: Report the average and standard deviation of the results across the random seeds.\n",
    "\n",
    "## 4. Analyze the results:\n",
    "Report the findings of your experiments in a structured format. Your analysis should include:\n",
    "- **4.1 Best reward achieved for each setup** (include plots of reward vs. generation for each method).\n",
    "- **4.2 Average and standard deviation of rewards across runs.**\n",
    "- **4.3 Convergence speed (generations to reach the threshold) across different setups.**\n",
    "- **4.4 Observations on the performance improvements (if any) from the enhancements you implemented.**\n",
    "\n",
    "## 5. Report the best-performing setup:\n",
    "Summarize the best setup you found for optimizing the Lunar Lander environment, justifying your choice based on your experimental results.\n",
    "\n",
    "---\n",
    "\n",
    "### Note:\n",
    "- As in previous assignments, ensure you run the same setup multiple times with different random seeds to draw reliable conclusions.\n",
    "- Use the theoretical slides and material discussed in class to support your analysis.\n",
    "\n",
    "### Further Reading:\n",
    "- [OpenAI Gym Documentation](https://gymnasium.farama.org/environments/box2d/lunar_lander/)\n",
    "- Additional material shared in class.\n",
    "\n",
    "---"
   ]
  },
  {
   "cell_type": "code",
   "execution_count": 2,
   "id": "c9fb54e4",
   "metadata": {},
   "outputs": [],
   "source": [
    "import gymnasium as gym\n",
    "import numpy as np\n",
    "import torch\n",
    "import torch.nn as nn\n",
    "import torch.optim as optim\n",
    "import pickle\n",
    "import matplotlib.pyplot as plt\n",
    "import sys"
   ]
  },
  {
   "cell_type": "code",
   "execution_count": 3,
   "id": "cb95bc47",
   "metadata": {},
   "outputs": [],
   "source": [
    "class MLP(nn.Module):\n",
    "    def __init__(self, input_dim, output_dim):\n",
    "        super(MLP, self).__init__()\n",
    "        self.model = nn.Sequential(\n",
    "            nn.Linear(input_dim, 4),\n",
    "            nn.Tanh(),\n",
    "            #nn.Linear(4, 4),\n",
    "            #nn.ReLU(),\n",
    "            nn.Linear(4, output_dim),\n",
    "        )\n",
    "    def forward(self, x):\n",
    "        output = self.model(x)\n",
    "        return torch.argmax(output).item()\n",
    "    "
   ]
  },
  {
   "cell_type": "code",
   "execution_count": 5,
   "id": "6c9d9b8a",
   "metadata": {},
   "outputs": [],
   "source": [
    "\n",
    "class LunarLanderAgent:\n",
    "    def __init__(self, env_name='LunarLander-v3', search_algorithm=None, episodes=1, time_steps=1000):\n",
    "        self.env = gym.make(\"LunarLander-v3\", continuous=False, enable_wind=False)\n",
    "        self.episodes = episodes\n",
    "        self.time_steps = time_steps\n",
    "        self.search_algorithm = search_algorithm\n",
    "        self.input_dim = self.env.observation_space.shape[0]\n",
    "        self.output_dim = self.env.action_space.n  # Discrete action space\n",
    "        self.mlp = self.create_mlp(self.input_dim, self.output_dim)\n",
    "    \n",
    "    def create_mlp(self, input_dim, output_dim):\n",
    "        \"\"\"\n",
    "        Creates an MLP using PyTorch.\n",
    "        \"\"\"\n",
    "        mlp = MLP(input_dim, output_dim)\n",
    "        return mlp\n",
    "    \n",
    "    def get_param_vector(self):\n",
    "        params = []\n",
    "        for param in self.mlp.parameters():\n",
    "            params.append(param.data.cpu().numpy().flatten())\n",
    "        return np.concatenate(params)\n",
    "    \n",
    "    def set_param_vector(self, vector):\n",
    "        offset = 0\n",
    "        for param in self.mlp.parameters():\n",
    "            shape = param.shape\n",
    "            size = np.prod(shape)\n",
    "            param.data = torch.tensor(vector[offset:offset + size].reshape(shape), dtype=torch.float32)\n",
    "            offset += size\n",
    "    \n",
    "    def evaluate(self, vector):\n",
    "        self.set_param_vector(vector)\n",
    "        total_reward = 0\n",
    "        for _ in range(self.episodes):\n",
    "            obs = self.env.reset()\n",
    "            episode_reward = 0\n",
    "            terminated = False\n",
    "            obs = obs[0]\n",
    "            i = 0\n",
    "            while not terminated and i < self.time_steps:\n",
    "                obs = torch.tensor(obs, dtype=torch.float32).unsqueeze(0)\n",
    "                action = self.mlp(obs)\n",
    "                #print(action)\n",
    "                obs, reward, terminated, done, info = self.env.step(action)\n",
    "                episode_reward += reward\n",
    "                i += 1\n",
    "            total_reward += episode_reward\n",
    "        #print(total_reward)\n",
    "        return total_reward / self.episodes\n",
    "\n",
    "    def train(self):\n",
    "        if self.search_algorithm:\n",
    "            self.best_params = self.search_algorithm(self)\n",
    "            self.save_agent(\"best_agent.pkl\")\n",
    "        else:\n",
    "            raise ValueError(\"No search algorithm provided\")\n",
    "        \n",
    "    def test(self):\n",
    "        env = gym.make('LunarLander-v3', render_mode=\"human\")\n",
    "        obs = env.reset()\n",
    "        total_reward = 0\n",
    "        terminated = False\n",
    "        obs = obs[0]\n",
    "        i = 0\n",
    "        while not terminated and i < self.time_steps:\n",
    "            env.render()\n",
    "            obs = torch.tensor(obs, dtype=torch.float32).unsqueeze(0)\n",
    "            action = self.mlp(obs)\n",
    "            obs, reward, terminated, done, info = env.step(action)\n",
    "            total_reward += reward\n",
    "            i += 1\n",
    "        print(f\"Test Reward: {total_reward}\")\n",
    "        env.close()\n",
    "        \n",
    "\n",
    "    def save_agent(self, filename):\n",
    "        with open(filename, 'wb') as f:\n",
    "            pickle.dump(self.get_param_vector(), f)\n",
    "\n",
    "    def load_agent(self, filename):\n",
    "        with open(filename, 'rb') as f:\n",
    "            param_vector = pickle.load(f)\n",
    "        self.set_param_vector(param_vector)"
   ]
  },
  {
   "cell_type": "code",
   "execution_count": null,
   "id": "afe25a46",
   "metadata": {},
   "outputs": [],
   "source": [
    "def make_evolution_plot(best, mean, title, save=False):\n",
    "    plt.plot(best, label='Best Overall Reward')\n",
    "    plt.plot(mean, label='Mean Reward')\n",
    "    plt.xlabel('Generation')\n",
    "    plt.ylabel('Reward')\n",
    "    plt.title(title)\n",
    "    plt.legend()\n",
    "    plt.draw()\n",
    "    if save:\n",
    "        plt.savefig(f'{title}.png')\n",
    "    plt.pause(0.01)\n",
    "    plt.clf()\n"
   ]
  },
  {
   "cell_type": "code",
   "execution_count": null,
   "id": "364e51ea",
   "metadata": {},
   "outputs": [],
   "source": [
    "\n",
    "def random_search(agent, population_size=40, generations=20, alpha=0.01, sigma=0.1):\n",
    "    \"\"\"\n",
    "    Optimize the MLP using Random Search.\n",
    "    \"\"\"\n",
    "    param_vector = agent.get_param_vector()\n",
    "    num_params = len(param_vector)\n",
    "    best_params = param_vector\n",
    "    best_reward = -np.inf\n",
    "    best_rewards = []\n",
    "    mean_rewards = []\n",
    "    for generation in range(generations):\n",
    "        population = []\n",
    "        for i in range(population_size):\n",
    "            ind = param_vector + sigma * np.random.randn(num_params)\n",
    "            population.append(ind)\n",
    "        rewards = []\n",
    "        for individual in population:\n",
    "            r = agent.evaluate(individual)\n",
    "            rewards.append(r)\n",
    "        rewards = np.array(rewards)\n",
    "        max_reward_idx = np.argmax(rewards)\n",
    "        if rewards[max_reward_idx] > best_reward:\n",
    "            best_reward = rewards[max_reward_idx]\n",
    "            best_params = population[max_reward_idx]\n",
    "            agent.save_agent(f'best_agent_random_search.pkl')\n",
    "        # Logging\n",
    "        print(f\"Generation {generation + 1}: Best Overall Reward = {rewards.max()} Mean Reward = {rewards.mean()}\")\n",
    "\n",
    "        best_rewards.append(rewards.max())\n",
    "        mean_rewards.append(rewards.mean())\n",
    "    make_evolution_plot(best_rewards, mean_rewards, \"RS\", True)\n",
    "    agent.set_param_vector(best_params)\n",
    "    return best_params"
   ]
  },
  {
   "cell_type": "code",
   "execution_count": null,
   "id": "4cd5e1be",
   "metadata": {},
   "outputs": [],
   "source": [
    "\n"
   ]
  },
  {
   "cell_type": "markdown",
   "id": "187984da",
   "metadata": {},
   "source": [
    "## Train !"
   ]
  },
  {
   "cell_type": "code",
   "execution_count": 14,
   "id": "a6790da7",
   "metadata": {},
   "outputs": [
    {
     "name": "stdout",
     "output_type": "stream",
     "text": [
      "Generation 1: Best Reward = -342.3273944125833 Mean Reward = -663.5585746223544\n",
      "Generation 2: Best Reward = -417.6089855038008 Mean Reward = -620.269210520518\n",
      "Generation 3: Best Reward = -389.50949676188844 Mean Reward = -632.3748516040964\n",
      "Generation 4: Best Reward = -461.2152154710582 Mean Reward = -659.0620292918883\n",
      "Generation 5: Best Reward = -406.1628720697266 Mean Reward = -638.2447908863784\n",
      "Generation 6: Best Reward = -377.7032738796349 Mean Reward = -603.6959726007151\n",
      "Generation 7: Best Reward = -491.9364525269955 Mean Reward = -623.2037150210451\n",
      "Generation 8: Best Reward = -467.2849297574356 Mean Reward = -642.2502755815104\n",
      "Generation 9: Best Reward = -305.3176938175555 Mean Reward = -623.7867609225186\n",
      "Generation 10: Best Reward = -408.26510087431535 Mean Reward = -640.9622038937334\n",
      "Generation 11: Best Reward = -391.4931844961952 Mean Reward = -616.0983961201744\n",
      "Generation 12: Best Reward = -405.6694216346272 Mean Reward = -650.7347492373312\n",
      "Generation 13: Best Reward = -475.4471387627506 Mean Reward = -645.2205895701545\n",
      "Generation 14: Best Reward = -444.36386012570387 Mean Reward = -684.6244062849653\n",
      "Generation 15: Best Reward = -376.93330170519283 Mean Reward = -614.2790439211893\n",
      "Generation 16: Best Reward = -450.0732640455091 Mean Reward = -639.0724877305472\n",
      "Generation 17: Best Reward = -457.2167670962228 Mean Reward = -666.5813724917423\n",
      "Generation 18: Best Reward = -271.25151923855697 Mean Reward = -639.9918562857447\n",
      "Generation 19: Best Reward = -433.6919025888006 Mean Reward = -651.8683597273812\n",
      "Generation 20: Best Reward = -73.55083274542442 Mean Reward = -621.56644078772\n"
     ]
    },
    {
     "data": {
      "image/png": "[encoded data removed]",
      "text/plain": [
       "<Figure size 640x480 with 1 Axes>"
      ]
     },
     "metadata": {},
     "output_type": "display_data"
    },
    {
     "data": {
      "text/plain": [
       "<Figure size 640x480 with 0 Axes>"
      ]
     },
     "metadata": {},
     "output_type": "display_data"
    }
   ],
   "source": [
    "# Evolve and Train!\n",
    "np.random.seed(46)\n",
    "torch.random.manual_seed(46)\n",
    "agent = LunarLanderAgent(search_algorithm=random_search, episodes=3, time_steps=1000)\n",
    "agent.train()\n",
    "\n"
   ]
  },
  {
   "cell_type": "markdown",
   "id": "818f0887",
   "metadata": {},
   "source": [
    "## Test ! "
   ]
  },
  {
   "cell_type": "code",
   "execution_count": null,
   "id": "e2bd1ddd",
   "metadata": {},
   "outputs": [
    {
     "name": "stdout",
     "output_type": "stream",
     "text": [
      "Test Reward: -647.1182312054189\n"
     ]
    },
    {
     "ename": "",
     "evalue": "",
     "output_type": "error",
     "traceback": [
      "\u001b[1;31mThe Kernel crashed while executing code in the current cell or a previous cell. \n",
      "\u001b[1;31mPlease review the code in the cell(s) to identify a possible cause of the failure. \n",
      "\u001b[1;31mClick <a href='https://aka.ms/vscodeJupyterKernelCrash'>here</a> for more info. \n",
      "\u001b[1;31mView Jupyter <a href='command:jupyter.viewOutput'>log</a> for further details."
     ]
    }
   ],
   "source": [
    "# Test!\n",
    "agent = LunarLanderAgent(search_algorithm=random_search, episodes=3, time_steps=1000)\n",
    "agent.load_agent(f'best_agent_random_search.pkl')\n",
    "agent.test()\n"
   ]
  },
  {
   "cell_type": "code",
   "execution_count": null,
   "id": "0598a580",
   "metadata": {},
   "outputs": [],
   "source": []
  },
  {
   "cell_type": "code",
   "execution_count": null,
   "id": "cf27e895",
   "metadata": {},
   "outputs": [],
   "source": []
  }
 ],
 "metadata": {
  "kernelspec": {
   "display_name": "aulaec-esde",
   "language": "python",
   "name": "python3"
  },
  "language_info": {
   "codemirror_mode": {
    "name": "ipython",
    "version": 3
   },
   "file_extension": ".py",
   "mimetype": "text/x-python",
   "name": "python",
   "nbconvert_exporter": "python",
   "pygments_lexer": "ipython3",
   "version": "3.10.16"
  }
 },
 "nbformat": 4,
 "nbformat_minor": 5
}
