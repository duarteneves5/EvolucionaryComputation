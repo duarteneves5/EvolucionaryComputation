{
 "cells": [
  {
   "cell_type": "markdown",
   "metadata": {},
   "source": [
    "# Standard Genetic Programming Algorithm\n",
    "\n",
    "In this assignment we are going to explore the symbolic regression using Genetic Programming. The idea of symbolic regression is to discover a mathematical expression or equation that best represents the underlying relationship between variables in a dataset. This involves finding a balance between accuracy, i.e. fitting the data well, and simplicity, i.e. ensuring the expression is interpretable and generalizes to new data. We will be doing symbolic regression resorting to tree based Genetic Programming, an evolutionary algorithm type as you learn in class. The problem at hand is to create a mathematical expression that minimizes the error between the predicted values and the observed data points in the given dataset."
   ]
  },
  {
   "cell_type": "markdown",
   "metadata": {},
   "source": [
    "## Assignment Task (MUST READ)\n",
    "\n",
    "1. Analyse the implementations bellow for symbolic regression using Genetic Programming. The code is ready to run on one dataset (datasetSimple).\n",
    "\n",
    "2. Implement the following:\n",
    "- 2.1 Only a simple base of terminals and functions are implemented. Expand by implementing other functions and terminals that you see fit for the problem. Do some trial runs to test and validate your expanded set, however create and choose at most **one more set** of terminals and functions for points 3. and 4. .\n",
    "- 2.2 Add the elitism mechanism.\n",
    "- 2.3 Implement and add the point mutation operator. The idea is to have a probability of using either subtree mutaton or point mutation during the mutation operation.\n",
    "- 2.4 Create a fitness function with bloat control.\n",
    "\n",
    "3. Run experiments on **datasetSimple** and **datasetHard** and analyse the following setups:\n",
    "- 3.1 elistism **vs** no elitism \n",
    "- 3.2 simple terminals and functions **vs** implemented expanded set of functions and terminals.\n",
    "- 3.4 normal fitness function **vs** fitness function with bloat control.\n",
    "\n",
    "Note: for all experiments run **5 different random seeds**\n",
    "\n",
    "4. Analyse the results from the experiments by reporting in this notebook. The analysis for each experiment should take into account:\n",
    "- 4.1 best fitness value, but provide the plot generation/fitness (x/y)\n",
    "- 4.2 number of generations needed to reach the minimum aceptable error value (<= 1e-6) . Note that different seeds or configurations can terminate before the defined number o generations.\n",
    "- 4.3 the size of the three (number of nodes) and depth.\n",
    "\n",
    "\n",
    "In the end, you should indicate the best setup that you found for each dataset.\n",
    "\n",
    "Note: Resort to the tehoretical slides and like in the first assignment, in order to analyse and draw conclusions you **must run the same setup multiple times with different random seeds**.\n",
    "\n",
    "Further reading:\n",
    "\n",
    "Field guide to Genetic Programming: http://www0.cs.ucl.ac.uk/staff/W.Langdon/ftp/papers/poli08_fieldguide.pdf\n"
   ]
  },
  {
   "cell_type": "markdown",
   "metadata": {},
   "source": [
    "### CODE"
   ]
  },
  {
   "cell_type": "code",
   "execution_count": 19,
   "metadata": {
    "ExecuteTime": {
     "end_time": "2019-11-25T12:37:44.593614Z",
     "start_time": "2019-11-25T12:37:44.364127Z"
    }
   },
   "outputs": [],
   "source": [
    "# Adaptation of the Tiny-GP code available at https://github.com/moshesipper/tiny_gp/blob/master/tiny_gp.py\n",
    "from random import random, randint, seed\n",
    "from statistics import mean\n",
    "from copy import deepcopy\n",
    "import matplotlib.pyplot as plt\n",
    "import numpy as np\n",
    "%matplotlib inline"
   ]
  },
  {
   "cell_type": "markdown",
   "metadata": {},
   "source": [
    "# Definition of the Terminal and Non-Terminal Symbols\n",
    "In this section, you are expected to define terminal and non-terminal (functions) symbols of the Genetic Programming approach. Some of them are already defined.\n"
   ]
  },
  {
   "cell_type": "code",
   "execution_count": null,
   "metadata": {
    "ExecuteTime": {
     "end_time": "2019-11-25T12:37:44.601563Z",
     "start_time": "2019-11-25T12:37:44.595801Z"
    }
   },
   "outputs": [],
   "source": [
    "# TODO update and add code here\n",
    "# ---------------------------\n",
    "# Function Definitions\n",
    "# ---------------------------\n",
    "\n",
    "def add(x, y):\n",
    "    return x + y\n",
    "add.arity = 2\n",
    "\n",
    "def sub(x, y):\n",
    "    return x - y\n",
    "sub.arity = 2\n",
    "\n",
    "def mul(x, y):\n",
    "    return x * y\n",
    "mul.arity = 2\n",
    "\n",
    "# ---------------------------\n",
    "# Terminals and Function List\n",
    "# ---------------------------\n",
    "TERMINALS = ['x', -2, -1, 0, 1, 2]\n",
    "FUNCTIONS  = [add, sub, mul]\n",
    "\n",
    "# expanded set\n",
    "#EXPANDED_FUNCTIONS = [...]\n",
    "#EXPANDED_TERMINALS = [...] \n",
    "\n",
    "FUNCTIONS = FUNCTIONS #EXPANDED_FUNCTIONS\n",
    "TERMINALS = TERMINALS #EXPANDED_TERMINALS\n"
   ]
  },
  {
   "cell_type": "markdown",
   "metadata": {},
   "source": [
    "# Parameters\n",
    "\n",
    "These are the base evolutionary parameters. "
   ]
  },
  {
   "cell_type": "code",
   "execution_count": 21,
   "metadata": {
    "ExecuteTime": {
     "end_time": "2019-11-25T12:37:44.609256Z",
     "start_time": "2019-11-25T12:37:44.604235Z"
    }
   },
   "outputs": [],
   "source": [
    "POP_SIZE        = 50   # population size\n",
    "MIN_DEPTH       = 2    # minimal initial random tree depth\n",
    "MAX_DEPTH       = 6   # maximal initial random tree depth\n",
    "GENERATIONS     = 100  # maximal number of generations to run evolution\n",
    "TOURNAMENT_SIZE = 5    # size of tournament for tournament selection\n",
    "XO_RATE         = 0.8  # crossover rate \n",
    "PROB_MUTATION   = 0.2  # per-node mutation probability \n",
    "ELISTIM = 0.1 #0"
   ]
  },
  {
   "cell_type": "markdown",
   "metadata": {},
   "source": [
    "# Representation of a Program using a GP Tree\n",
    "Analyze the following code. This is the base code, and some parts will require updates to fulfill the assignment."
   ]
  },
  {
   "cell_type": "code",
   "execution_count": null,
   "metadata": {
    "ExecuteTime": {
     "end_time": "2019-11-25T12:37:44.643336Z",
     "start_time": "2019-11-25T12:37:44.612603Z"
    }
   },
   "outputs": [],
   "source": [
    "import random\n",
    "from random import randint, random\n",
    "\n",
    "class GPTree:\n",
    "    def __init__(self, data=None, children=None):\n",
    "        self.data = data\n",
    "        # Use a list for children; if not provided, initialize as empty.\n",
    "        self.children = children if children is not None else []\n",
    "\n",
    "    def node_label(self):\n",
    "        if self.data in FUNCTIONS:\n",
    "            return self.data.__name__\n",
    "        else:\n",
    "            return str(self.data)\n",
    "\n",
    "    def print_tree(self, prefix=\"\"):\n",
    "        print(f\"{prefix}{self.node_label()}\")\n",
    "        for child in self.children:\n",
    "            child.print_tree(prefix + \"   \")\n",
    "\n",
    "    def compute_tree(self, x):\n",
    "        # If the node holds a function, compute all its children first.\n",
    "        if self.data in FUNCTIONS:\n",
    "            args = [child.compute_tree(x) for child in self.children]\n",
    "            return self.data(*args)\n",
    "        elif self.data == 'x':\n",
    "            return x\n",
    "        else:\n",
    "            return self.data\n",
    "\n",
    "    def random_tree(self, grow, max_depth, depth=0):\n",
    "        # Decide whether this node will be a function or a terminal.\n",
    "        if depth < MIN_DEPTH or (depth < max_depth and not grow):\n",
    "            self.data = FUNCTIONS[randint(0, len(FUNCTIONS) - 1)]\n",
    "        elif depth >= max_depth:\n",
    "            self.data = TERMINALS[randint(0, len(TERMINALS) - 1)]\n",
    "        else:\n",
    "            if random() > 0.5:\n",
    "                self.data = TERMINALS[randint(0, len(TERMINALS) - 1)]\n",
    "            else:\n",
    "                self.data = FUNCTIONS[randint(0, len(FUNCTIONS) - 1)]\n",
    "        # If the node is a function, create as many children as its arity\n",
    "        if self.data in FUNCTIONS:\n",
    "            self.children = []\n",
    "            for _ in range(self.data.arity):\n",
    "                child = GPTree()\n",
    "                child.random_tree(grow, max_depth, depth + 1)\n",
    "                self.children.append(child)\n",
    "\n",
    "    def mutation(self):\n",
    "        if random() < PROB_MUTATION:\n",
    "            # Replace this subtree with a new random tree (of limited depth)\n",
    "            self.random_tree(grow=True, max_depth=2)\n",
    "        else:\n",
    "            for child in self.children:\n",
    "                child.mutation()\n",
    "\n",
    "    def size(self):\n",
    "        if self.data not in FUNCTIONS:\n",
    "            return 1\n",
    "        return 1 + sum(child.size() for child in self.children)\n",
    "\n",
    "    def build_subtree(self):\n",
    "        t = GPTree()\n",
    "        t.data = self.data\n",
    "        t.children = [child.build_subtree() for child in self.children]\n",
    "        return t\n",
    "\n",
    "    def scan_tree(self, count, second):\n",
    "        count[0] -= 1\n",
    "        if count[0] <= 1:\n",
    "            if not second:\n",
    "                return self.build_subtree()\n",
    "            else:\n",
    "                self.data = second.data\n",
    "                self.children = second.children\n",
    "        else:\n",
    "            ret = None\n",
    "            for child in self.children:\n",
    "                if count[0] > 1:\n",
    "                    ret = child.scan_tree(count, second)\n",
    "            return ret\n",
    "\n",
    "    def crossover(self, other):\n",
    "        if random() < XO_RATE:\n",
    "            second = other.scan_tree([randint(1, other.size())], None)\n",
    "            self.scan_tree([randint(1, self.size())], second)\n"
   ]
  },
  {
   "cell_type": "markdown",
   "metadata": {},
   "source": [
    "# Fitness Evaluation\n",
    "You have to adjust this code in order to introduce bloat control mechanism. You should maintain the version without bloat control for comparison."
   ]
  },
  {
   "cell_type": "code",
   "execution_count": null,
   "metadata": {
    "ExecuteTime": {
     "end_time": "2019-11-25T12:37:44.651662Z",
     "start_time": "2019-11-25T12:37:44.646109Z"
    }
   },
   "outputs": [],
   "source": [
    "# *** YOUR CODE HERE ***\n",
    "# You are going to need to add another function in order to introduce a bloat control mechanism. Adapt the existing one.\n",
    "def calculate_error(individual, dataset):\n",
    "    return mean([abs(individual.compute_tree(ds[0]) - ds[1]) for ds in dataset])\n",
    "\n",
    "def fitness(individual, dataset, bloat_control = False): # mean absolute error over dataset normalized to [0,1]\n",
    "        return calculate_error(individual, dataset)"
   ]
  },
  {
   "cell_type": "markdown",
   "metadata": {},
   "source": [
    "# Parent Selection\n",
    "The selection mechanism implemented is the tournament selection."
   ]
  },
  {
   "cell_type": "code",
   "execution_count": 24,
   "metadata": {
    "ExecuteTime": {
     "end_time": "2019-11-25T12:37:44.660539Z",
     "start_time": "2019-11-25T12:37:44.654261Z"
    }
   },
   "outputs": [],
   "source": [
    "def selection(population, fitnesses): # select one individual using tournament selection\n",
    "    tournament = [randint(0, len(population)-1) for i in range(TOURNAMENT_SIZE)] # select tournament contenders\n",
    "    tournament_fitnesses = [fitnesses[tournament[i]] for i in range(TOURNAMENT_SIZE)]\n",
    "    return deepcopy(population[tournament[tournament_fitnesses.index(min(tournament_fitnesses))]]) "
   ]
  },
  {
   "cell_type": "markdown",
   "metadata": {},
   "source": [
    "# Survivor Selection\n",
    "The implementation of elistism should be done here, check the code, follow the instructions and complete the code."
   ]
  },
  {
   "cell_type": "code",
   "execution_count": null,
   "metadata": {
    "ExecuteTime": {
     "end_time": "2019-11-25T12:37:44.668461Z",
     "start_time": "2019-11-25T12:37:44.663679Z"
    }
   },
   "outputs": [],
   "source": [
    "\n",
    "\n",
    "def survivors_selection_elite(parents,offspring, elite):\n",
    "    #This Function Should then be called in the Main Cycle line 23, i.e. it should replace the generational mechanism that is currectly in place\n",
    "    size = len(parents)\n",
    "    elite_size = int(size* elite)\n",
    "    new_population = []\n",
    "    # ******* YOUR CODE HERE *******\n",
    "    return new_population"
   ]
  },
  {
   "cell_type": "markdown",
   "metadata": {},
   "source": [
    "# Generate Inital Population using Ramped Half-and-Half\n",
    "Ramped half-and-half is a method for initializing populations, where half of the individuals are generated using a \"full\" method (producing complete trees up to a specified depth), and the other half are created using a \"grow\" method (producing trees of varying shapes and depths), ensuring diversity in the initial population."
   ]
  },
  {
   "cell_type": "code",
   "execution_count": null,
   "metadata": {
    "ExecuteTime": {
     "end_time": "2019-11-25T12:37:44.676336Z",
     "start_time": "2019-11-25T12:37:44.670689Z"
    }
   },
   "outputs": [],
   "source": [
    "# Generate an individual: method full or grow\n",
    "# Field Guide Genetic Programming: algorithm 2.1, pg.14\n",
    "def init_population():\n",
    "    pop = []\n",
    "    for md in range(3, MAX_DEPTH + 1):\n",
    "        for i in range(int(POP_SIZE/6)):\n",
    "            t = GPTree()\n",
    "            t.random_tree(grow = True, max_depth = md) # grow\n",
    "            pop.append(t) \n",
    "        for i in range(int(POP_SIZE/6)):\n",
    "            t = GPTree()\n",
    "            t.random_tree(grow = False, max_depth = md) # full\n",
    "            pop.append(t)\n",
    "    #If we are missing some inviduals, just fill the rest of population with random trees with the full method\n",
    "    print(len(pop))\n",
    "    if len(pop) < POP_SIZE: \n",
    "        for i in range(POP_SIZE - len(pop)):\n",
    "            t = GPTree()\n",
    "            t.random_tree(grow = False, max_depth = md) # full\n",
    "            pop.append(t)\n",
    "    elif len(pop) > POP_SIZE:\n",
    "        pop = pop[:POP_SIZE]\n",
    "    \n",
    "    print(len(pop))\n",
    "    return pop"
   ]
  },
  {
   "cell_type": "markdown",
   "metadata": {},
   "source": [
    "# Main Cycle"
   ]
  },
  {
   "cell_type": "code",
   "execution_count": null,
   "metadata": {
    "ExecuteTime": {
     "end_time": "2019-11-25T12:37:44.688707Z",
     "start_time": "2019-11-25T12:37:44.679594Z"
    }
   },
   "outputs": [],
   "source": [
    "def standard_gp(dataset, verbose=False):      \n",
    "    # init stuff\n",
    "    seed() # init internal state of random number generator\n",
    "    population= init_population() \n",
    "    best_of_run = None\n",
    "    best_of_run_f = 999999.0\n",
    "    best_of_run_gen = 999999.0\n",
    "    best_per_generation = []\n",
    "    fitnesses = [fitness(population[i], dataset) for i in range(POP_SIZE)]\n",
    "\n",
    "    # go evolution!\n",
    "    for gen in range(GENERATIONS):  \n",
    "        if verbose: print(\"Generation: %d\" % gen)\n",
    "        nextgen_population=[]\n",
    "        for i in range(POP_SIZE):\n",
    "            parent1 = selection(population, fitnesses)\n",
    "            parent2 = selection(population, fitnesses)\n",
    "            parent1.crossover(parent2)\n",
    "            parent1.mutation()\n",
    "            nextgen_population.append(parent1)\n",
    "        \n",
    "        #Generational Strategy\n",
    "        population = nextgen_population\n",
    "        fitnesses = [fitness(population[i], dataset) for i in range(POP_SIZE)]\n",
    "        best_per_generation.append(min(fitnesses))\n",
    "       \n",
    "        if min(fitnesses) < best_of_run_f:\n",
    "                best_of_run_f = min(fitnesses)\n",
    "                best_of_run_gen = gen\n",
    "                best_of_run = deepcopy(population[fitnesses.index(min(fitnesses))])\n",
    "                if verbose:\n",
    "                    print(\"________________________\")\n",
    "                    print(\"gen:\", gen, \", best_of_run_f:\", round(min(fitnesses),3), \", best_of_run:\") \n",
    "                    best_of_run.print_tree()\n",
    "        if best_of_run_f <= 1e-6: \n",
    "                break   \n",
    "        \n",
    "    if verbose:\n",
    "        print(\"\\n\\n_________________________________________________\\nEND OF RUN\\nbest_of_run attained at gen \" + str(best_of_run_gen) +\\\n",
    "          \" and has f=\" + str(round(best_of_run_f,3)))\n",
    "        best_of_run.print_tree()\n",
    "    return best_per_generation, best_of_run"
   ]
  },
  {
   "cell_type": "markdown",
   "metadata": {},
   "source": [
    "# Load DataSet"
   ]
  },
  {
   "cell_type": "code",
   "execution_count": 28,
   "metadata": {
    "ExecuteTime": {
     "end_time": "2019-11-25T12:37:44.696012Z",
     "start_time": "2019-11-25T12:37:44.691150Z"
    }
   },
   "outputs": [],
   "source": [
    "def load_dataset(file_name):\n",
    "    from numpy import genfromtxt\n",
    "    my_data = genfromtxt(file_name, delimiter=',')\n",
    "    return my_data"
   ]
  },
  {
   "cell_type": "code",
   "execution_count": 41,
   "metadata": {
    "ExecuteTime": {
     "end_time": "2019-11-25T12:37:44.705150Z",
     "start_time": "2019-11-25T12:37:44.699203Z"
    }
   },
   "outputs": [
    {
     "name": "stdout",
     "output_type": "stream",
     "text": [
      "[[-1.         -0.15852902]\n",
      " [-0.97979798 -0.09022457]\n",
      " [-0.95959596 -0.02505046]\n",
      " [-0.93939394  0.03706251]\n",
      " [-0.91919192  0.09618287]\n",
      " [-0.8989899   0.15237845]\n",
      " [-0.87878788  0.20571648]\n",
      " [-0.85858586  0.25626368]\n",
      " [-0.83838384  0.30408621]\n",
      " [-0.81818182  0.34924981]\n",
      " [-0.7979798   0.39181978]\n",
      " [-0.77777778  0.43186103]\n",
      " [-0.75757576  0.46943809]\n",
      " [-0.73737374  0.50461519]\n",
      " [-0.71717172  0.53745624]\n",
      " [-0.6969697   0.56802487]\n",
      " [-0.67676768  0.59638445]\n",
      " [-0.65656566  0.6225981 ]\n",
      " [-0.63636364  0.64672874]\n",
      " [-0.61616162  0.66883906]\n",
      " [-0.5959596   0.68899158]\n",
      " [-0.57575758  0.70724864]\n",
      " [-0.55555556  0.7236724 ]\n",
      " [-0.53535354  0.73832489]\n",
      " [-0.51515152  0.75126798]\n",
      " [-0.49494949  0.76256341]\n",
      " [-0.47474747  0.77227281]\n",
      " [-0.45454545  0.78045769]\n",
      " [-0.43434343  0.78717944]\n",
      " [-0.41414141  0.79249935]\n",
      " [-0.39393939  0.79647863]\n",
      " [-0.37373737  0.79917837]\n",
      " [-0.35353535  0.80065961]\n",
      " [-0.33333333  0.80098328]\n",
      " [-0.31313131  0.80021025]\n",
      " [-0.29292929  0.79840129]\n",
      " [-0.27272727  0.79561711]\n",
      " [-0.25252525  0.79191838]\n",
      " [-0.23232323  0.78736565]\n",
      " [-0.21212121  0.78201944]\n",
      " [-0.19191919  0.7759402 ]\n",
      " [-0.17171717  0.76918831]\n",
      " [-0.15151515  0.76182409]\n",
      " [-0.13131313  0.75390781]\n",
      " [-0.11111111  0.74549965]\n",
      " [-0.09090909  0.73665977]\n",
      " [-0.07070707  0.72744825]\n",
      " [-0.05050505  0.71792509]\n",
      " [-0.03030303  0.70815027]\n",
      " [-0.01010101  0.69818369]\n",
      " [ 0.01010101  0.68808517]\n",
      " [ 0.03030303  0.67791449]\n",
      " [ 0.05050505  0.66773137]\n",
      " [ 0.07070707  0.65759546]\n",
      " [ 0.09090909  0.64756633]\n",
      " [ 0.11111111  0.63770352]\n",
      " [ 0.13131313  0.62806645]\n",
      " [ 0.15151515  0.61871453]\n",
      " [ 0.17171717  0.60970705]\n",
      " [ 0.19191919  0.60110326]\n",
      " [ 0.21212121  0.59296232]\n",
      " [ 0.23232323  0.58534333]\n",
      " [ 0.25252525  0.57830529]\n",
      " [ 0.27272727  0.57190714]\n",
      " [ 0.29292929  0.56620775]\n",
      " [ 0.31313131  0.56126587]\n",
      " [ 0.33333333  0.5571402 ]\n",
      " [ 0.35353535  0.55388934]\n",
      " [ 0.37373737  0.55157181]\n",
      " [ 0.39393939  0.55024602]\n",
      " [ 0.41414141  0.54997031]\n",
      " [ 0.43434343  0.55080291]\n",
      " [ 0.45454545  0.55280198]\n",
      " [ 0.47474747  0.55602553]\n",
      " [ 0.49494949  0.56053153]\n",
      " [ 0.51515152  0.56637781]\n",
      " [ 0.53535354  0.57362209]\n",
      " [ 0.55555556  0.58232202]\n",
      " [ 0.57575758  0.59253509]\n",
      " [ 0.5959596   0.60431873]\n",
      " [ 0.61616162  0.61773022]\n",
      " [ 0.63636364  0.63282675]\n",
      " [ 0.65656566  0.64966536]\n",
      " [ 0.67676768  0.668303  ]\n",
      " [ 0.6969697   0.68879649]\n",
      " [ 0.71717172  0.71120252]\n",
      " [ 0.73737374  0.73557766]\n",
      " [ 0.75757576  0.76197836]\n",
      " [ 0.77777778  0.79046092]\n",
      " [ 0.7979798   0.82108152]\n",
      " [ 0.81818182  0.8538962 ]\n",
      " [ 0.83838384  0.88896089]\n",
      " [ 0.85858586  0.92633134]\n",
      " [ 0.87878788  0.9660632 ]\n",
      " [ 0.8989899   1.00821195]\n",
      " [ 0.91919192  1.05283295]\n",
      " [ 0.93939394  1.0999814 ]\n",
      " [ 0.95959596  1.14971236]\n",
      " [ 0.97979798  1.20208074]\n",
      " [ 1.          1.2571413 ]]\n"
     ]
    }
   ],
   "source": [
    "dataset = load_dataset('datasetHard.csv')\n",
    "print(dataset)"
   ]
  },
  {
   "cell_type": "code",
   "execution_count": 42,
   "metadata": {
    "ExecuteTime": {
     "end_time": "2019-11-25T12:37:48.902030Z",
     "start_time": "2019-11-25T12:37:44.707665Z"
    }
   },
   "outputs": [
    {
     "name": "stdout",
     "output_type": "stream",
     "text": [
      "3 6\n",
      "8.333333333333334\n",
      "4 6\n",
      "8.333333333333334\n",
      "5 6\n",
      "8.333333333333334\n",
      "6 6\n",
      "8.333333333333334\n",
      "antes do fill 64\n",
      "depois 50\n",
      "Generation: 0\n",
      "________________________\n",
      "gen: 0 , best_of_run_f: 0.368 , best_of_run:\n",
      "sub\n",
      "   sub\n",
      "      add\n",
      "         0\n",
      "         2\n",
      "      sub\n",
      "         2\n",
      "         1\n",
      "   mul\n",
      "      -2\n",
      "      0\n",
      "Generation: 1\n",
      "Generation: 2\n",
      "Generation: 3\n",
      "Generation: 4\n",
      "Generation: 5\n",
      "Generation: 6\n",
      "Generation: 7\n",
      "Generation: 8\n",
      "Generation: 9\n",
      "Generation: 10\n",
      "Generation: 11\n",
      "Generation: 12\n",
      "Generation: 13\n",
      "Generation: 14\n",
      "Generation: 15\n",
      "Generation: 16\n",
      "Generation: 17\n",
      "Generation: 18\n",
      "Generation: 19\n",
      "Generation: 20\n",
      "Generation: 21\n",
      "Generation: 22\n",
      "Generation: 23\n",
      "Generation: 24\n",
      "Generation: 25\n",
      "Generation: 26\n",
      "________________________\n",
      "gen: 26 , best_of_run_f: 0.243 , best_of_run:\n",
      "sub\n",
      "   sub\n",
      "      2\n",
      "      1\n",
      "   mul\n",
      "      x\n",
      "      x\n",
      "Generation: 27\n",
      "Generation: 28\n",
      "Generation: 29\n",
      "Generation: 30\n",
      "Generation: 31\n",
      "Generation: 32\n",
      "Generation: 33\n",
      "Generation: 34\n",
      "Generation: 35\n",
      "Generation: 36\n",
      "Generation: 37\n",
      "Generation: 38\n",
      "Generation: 39\n",
      "Generation: 40\n",
      "Generation: 41\n",
      "Generation: 42\n",
      "Generation: 43\n",
      "Generation: 44\n",
      "Generation: 45\n",
      "Generation: 46\n",
      "Generation: 47\n",
      "Generation: 48\n",
      "Generation: 49\n",
      "Generation: 50\n",
      "Generation: 51\n",
      "Generation: 52\n",
      "Generation: 53\n",
      "Generation: 54\n",
      "Generation: 55\n",
      "Generation: 56\n",
      "Generation: 57\n",
      "Generation: 58\n",
      "Generation: 59\n",
      "Generation: 60\n",
      "Generation: 61\n",
      "Generation: 62\n",
      "Generation: 63\n",
      "Generation: 64\n",
      "Generation: 65\n",
      "Generation: 66\n",
      "Generation: 67\n",
      "Generation: 68\n",
      "Generation: 69\n",
      "Generation: 70\n",
      "Generation: 71\n",
      "Generation: 72\n",
      "Generation: 73\n",
      "Generation: 74\n",
      "Generation: 75\n",
      "Generation: 76\n",
      "Generation: 77\n",
      "Generation: 78\n",
      "Generation: 79\n",
      "Generation: 80\n",
      "Generation: 81\n",
      "Generation: 82\n",
      "Generation: 83\n",
      "Generation: 84\n",
      "Generation: 85\n",
      "Generation: 86\n",
      "Generation: 87\n",
      "Generation: 88\n",
      "Generation: 89\n",
      "Generation: 90\n",
      "Generation: 91\n",
      "Generation: 92\n",
      "Generation: 93\n",
      "Generation: 94\n",
      "Generation: 95\n",
      "Generation: 96\n",
      "Generation: 97\n",
      "Generation: 98\n",
      "Generation: 99\n",
      "\n",
      "\n",
      "_________________________________________________\n",
      "END OF RUN\n",
      "best_of_run attained at gen 26 and has f=0.243\n",
      "sub\n",
      "   sub\n",
      "      2\n",
      "      1\n",
      "   mul\n",
      "      x\n",
      "      x\n"
     ]
    }
   ],
   "source": [
    "best_by_generation, overall_best = standard_gp(dataset, verbose=True)"
   ]
  },
  {
   "cell_type": "code",
   "execution_count": 43,
   "metadata": {},
   "outputs": [
    {
     "name": "stdout",
     "output_type": "stream",
     "text": [
      "sub\n",
      "   sub\n",
      "      2\n",
      "      1\n",
      "   mul\n",
      "      x\n",
      "      x\n",
      "0.24256453127645333\n"
     ]
    }
   ],
   "source": [
    "overall_best.print_tree()\n",
    "erro = calculate_error(overall_best,dataset)\n",
    "print(erro)"
   ]
  },
  {
   "cell_type": "code",
   "execution_count": 44,
   "metadata": {
    "ExecuteTime": {
     "end_time": "2019-11-25T12:37:49.101192Z",
     "start_time": "2019-11-25T12:37:48.904447Z"
    }
   },
   "outputs": [
    {
     "data": {
      "image/png": "[encoded data removed]",
      "text/plain": [
       "<Figure size 640x480 with 1 Axes>"
      ]
     },
     "metadata": {},
     "output_type": "display_data"
    }
   ],
   "source": [
    "generations = list(range(len(best_by_generation)))\n",
    "plt.plot(generations, best_by_generation, label='Best by Generation')\n",
    "plt.title('Performance over generations')\n",
    "plt.xlabel('Generation')\n",
    "plt.ylabel('Fitness')\n",
    "plt.legend(loc='best')\n",
    "plt.show()"
   ]
  }
 ],
 "metadata": {
  "kernelspec": {
   "display_name": "aulaec",
   "language": "python",
   "name": "python3"
  },
  "language_info": {
   "codemirror_mode": {
    "name": "ipython",
    "version": 3
   },
   "file_extension": ".py",
   "mimetype": "text/x-python",
   "name": "python",
   "nbconvert_exporter": "python",
   "pygments_lexer": "ipython3",
   "version": "3.10.16"
  }
 },
 "nbformat": 4,
 "nbformat_minor": 4
}
