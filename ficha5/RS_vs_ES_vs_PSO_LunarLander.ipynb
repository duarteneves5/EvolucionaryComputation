{
 "cells": [
  {
   "cell_type": "markdown",
   "id": "5db7336a",
   "metadata": {},
   "source": [
    "# 📘 Assignment: Comparative Analysis of Evolutionary Algorithms on the Lunar Lander\n",
    "\n",
    "## 🎯 Objective\n",
    "This assignment aims to give you practical experience in evaluating and comparing the performance of two evolutionary algorithms — **Random Search (RS)**, **Evolution Strategies (ES)** and **Particle Swarm Optimization (PSO)** — using **statistically sound methods**.\n",
    "\n",
    "You will:\n",
    "- Use the Lunar Lander environment as a benchmark problem.\n",
    "- Run controlled experiments using adapting existing RS, ES and PSO implementations from class.\n",
    "- Analyze the results using appropriate statistical tools.\n",
    "- Report findings with clarity and scientific rigor.\n",
    "\n",
    "## 🧠 Learning Outcomes\n",
    "By completing this assignment, you will:\n",
    "1. Gain hands-on experience tuning and running evolutionary algorithms.\n",
    "2. Learn how to design fair experimental comparisons.\n",
    "3. Apply statistical analysis to compare stochastic optimizers.\n",
    "4. Interpret and communicate experimental findings effectively.\n",
    "\n",
    "## ✅ Tasks\n",
    "\n",
    "### 1. Experimental Setup\n",
    "- Use the implementations of ES and PSO on the **LunarLander-v2** task.\n",
    "- Fix a common evaluation budget (e.g. function evaluations).\n",
    "- Choose meaningful performance metrics (e.g., average reward per episode, success rate).\n",
    "\n",
    "### 2. Run the Experiments\n",
    "- Perform **at least 15 independent runs** for each algorithm to account for stochasticity.\n",
    "- Record key performance metrics (e.g., best fitness, average fitness).\n",
    "- (Optional but encouraged) Test different hyperparameter settings.\n",
    "\n",
    "### 3. Statistical Analysis\n",
    "- Use appropriate statistical tests to compare the performance:\n",
    "  - **Normality tests** (e.g., Shapiro-Wilk)\n",
    "  - **Parametric** (e.g., paired/unpaired t-test) or **non-parametric** (e.g., Wilcoxon, Mann-Whitney U) tests as appropriate\n",
    "  - Consider plotting **confidence intervals**, **boxplots**, or **convergence curves**\n",
    "- Discuss **effect sizes** and the **practical significance** of the results, not just statistical significance.\n",
    "\n",
    "### 4. Report\n",
    "Build a small report (1–2 pages) detailing :\n",
    "- **Methods**: Description of algorithms, setup, metrics\n",
    "- **Results**: Statistical outcomes, graphs, tables\n",
    "- **Discussion**: What the data shows, why one method might outperform the other\n",
    "- **Conclusion**: Summary, future improvements"
   ]
  },
  {
   "cell_type": "markdown",
   "id": "210d5748",
   "metadata": {},
   "source": [
    "# 🧪 Lunar Lander Comparison: RS vs ES vs PSO\n",
    "This notebook helps you compare Random Search(RS), Evolution Strategies (ES) and Particle Swarm Optimization (PSO) for the LunarLander problem from previous classes.\n",
    "You should collect results over multiple runs and perform statistical analysis."
   ]
  },
  {
   "cell_type": "code",
   "execution_count": null,
   "id": "57e60fe2",
   "metadata": {},
   "outputs": [],
   "source": [
    "import numpy as np\n",
    "import matplotlib.pyplot as plt\n",
    "import seaborn as sns\n",
    "from scipy import stats\n",
    "import pandas as pd\n",
    "\n",
    "sns.set(style='whitegrid')"
   ]
  },
  {
   "cell_type": "code",
   "execution_count": null,
   "id": "f6ee1ac8",
   "metadata": {},
   "outputs": [],
   "source": [
    "\n",
    "\n",
    "# Seeds to ensure reproducibility across runs\n",
    "SEEDS = [3223, 19676, 85960, 12577, 62400, 20323, 22523, 948, 98256, 79913, 36391, 92904, 17902, 73333, 49084, 39755, 10353,  8151, 50295, 97316]\n",
    "\n",
    "# Data storage\n",
    "results = {\n",
    "    'RS': [],\n",
    "    \"ES\": [],\n",
    "    \"PSO\": []\n",
    "}"
   ]
  },
  {
   "cell_type": "code",
   "execution_count": null,
   "id": "644d76be",
   "metadata": {},
   "outputs": [],
   "source": [
    "# Convert to DataFrame\n",
    "df = pd.DataFrame({\n",
    "    \"ES\": results[\"ES\"],\n",
    "    \"PSO\": results[\"PSO\"]\n",
    "})\n",
    "\n",
    "df_long = df.melt(var_name=\"Algorithm\", value_name=\"FinalScore\")\n",
    "df.head()"
   ]
  },
  {
   "cell_type": "code",
   "execution_count": null,
   "id": "ea44f9b0",
   "metadata": {},
   "outputs": [],
   "source": [
    "# Statistical Tests\n",
    "\n",
    "# perform the Normality tests\n",
    "print(\"Shapiro-Wilk Normality Test:\")\n",
    "\n",
    "# choose from the flowchart of slide 42 from \"9.Design of Experiments\" the type of test to perform. check the python files on the package.\n",
    "\n",
    "\n"
   ]
  }
 ],
 "metadata": {
  "language_info": {
   "name": "python"
  }
 },
 "nbformat": 4,
 "nbformat_minor": 5
}
